{
 "cells": [
  {
   "cell_type": "code",
   "execution_count": 1,
   "metadata": {
    "collapsed": true
   },
   "outputs": [],
   "source": [
    "class Node:\n",
    "    def __init__(self,data):\n",
    "        self.data = data\n",
    "        self.next = None\n",
    "        \n",
    "    def __del__(self):\n",
    "        print('Node of {} is deleted!'.format(self.data))"
   ]
  },
  {
   "cell_type": "code",
   "execution_count": 2,
   "metadata": {},
   "outputs": [
    {
     "data": {
      "text/plain": [
       "\"\\nLinked list ADT\\n1. insert\\n    append(data) > None(return 없어도 된당)  (저장)\\n    \\n2. empty() > bool > (T-비었다/F-비어있지 않다)\\n\\n3. search (indexing 불가) (big_O(n))\\n    traverse (mode='next) 순회 > data \\n\\n4. delete\\n    remove() > data \\n\\n5. size() > num.data\\n\\n>>*3,4 중요!*\\n\""
      ]
     },
     "execution_count": 2,
     "metadata": {},
     "output_type": "execute_result"
    }
   ],
   "source": [
    "'''\n",
    "Linked list ADT\n",
    "1. insert\n",
    "    append(data) > None(return 없어도 된당)  (저장)\n",
    "    \n",
    "2. empty() > bool > (T-비었다/F-비어있지 않다)\n",
    "\n",
    "3. search (indexing 불가) (big_O(n))\n",
    "    traverse (mode='next) 순회 > data \n",
    "\n",
    "4. delete\n",
    "    remove() > data \n",
    "\n",
    "5. size() > num.data\n",
    "\n",
    ">>*3,4 중요!*\n",
    "'''\n",
    "        "
   ]
  },
  {
   "cell_type": "code",
   "execution_count": 3,
   "metadata": {
    "collapsed": true
   },
   "outputs": [],
   "source": [
    "\n",
    "class Linked_list:\n",
    "    def __init__(self):\n",
    "        self.head = None\n",
    "        self.tail = None\n",
    "        \n",
    "        self.before = None\n",
    "        self.current = None\n",
    "        \n",
    "        self.num_data = 0\n",
    "        \n",
    "    def empty(self):\n",
    "        if self.num_data == 0:\n",
    "            return True\n",
    "        else:\n",
    "            return False\n",
    "            \n",
    "    def size(self):\n",
    "        return self.num_data\n",
    "        \n",
    "    def append(self,data):\n",
    "        new_node = Node(data) \n",
    "        if self.empty():\n",
    "            self.head = new_node\n",
    "            self.tail = new_node\n",
    "            self.num_data += 1\n",
    "        else:\n",
    "            self.tail.next = new_node\n",
    "            self.tail = new_node      \n",
    "            self.num_data += 1\n",
    "\n",
    "#유저가 반드시 travers(‘first’) 후에 travers(‘next’) 해야한다는걸 알고있다고 가정   \n",
    "    def traverse(self,mode = 'next'):\n",
    "        if self.empty():\n",
    "            return None\n",
    "        \n",
    "        if mode == 'first':\n",
    "            self.before = self.head\n",
    "            self.current = self.head\n",
    "        else:\n",
    "            if self.current.next== None:\n",
    "                return None\n",
    "    \n",
    "            self.before = self.current\n",
    "            self.current = self.current.next\n",
    "            \n",
    "        return self.current.data\n",
    "        \n",
    "    \n",
    "    \n",
    "    def remove(self):\n",
    "        rt_data = self.current.data\n",
    "        \n",
    "        if self.size() == 1:\n",
    "            self.head = None\n",
    "            self.current = None\n",
    "            self.before = None\n",
    "            self.tail = None\n",
    "            \n",
    "        elif self.current == self.head:\n",
    "            self.head = self.current.next\n",
    "            self.current = self.current.next\n",
    "            self.before = self.current.next\n",
    "        else:\n",
    "            if self.current == self.tail:\n",
    "                self.tail = self.before\n",
    "            self.before.next = self.current.next\n",
    "            self.current=self.before\n",
    "        \n",
    "        self.num_data -= 1\n",
    "        return rt_data\n",
    "        \n",
    "                "
   ]
  },
  {
   "cell_type": "code",
   "execution_count": 4,
   "metadata": {},
   "outputs": [
    {
     "name": "stdout",
     "output_type": "stream",
     "text": [
      "3\n",
      "5\n",
      "8\n"
     ]
    }
   ],
   "source": [
    "slist = Linked_list()\n",
    "slist.append(3)\n",
    "slist.append(5)\n",
    "slist.append(8)\n",
    "print(slist.head.data)\n",
    "print(slist.head.next.data)\n",
    "print(slist.tail.data)\n"
   ]
  },
  {
   "cell_type": "code",
   "execution_count": 5,
   "metadata": {
    "collapsed": true
   },
   "outputs": [],
   "source": [
    "slist.append(7)\n",
    "slist.append(6)\n",
    "slist.append(5)\n",
    "slist.append(4)\n",
    "slist.append(3)\n",
    "slist.append(2)\n",
    "slist.append(1)\n",
    "\n",
    "\n",
    "data = slist.traverse('first')\n",
    "\n"
   ]
  },
  {
   "cell_type": "code",
   "execution_count": 6,
   "metadata": {},
   "outputs": [],
   "source": [
    "class testcode(Linked_list): # 상속\n",
    "    def search(self,target):\n",
    "        data =self.traverse('first')\n",
    "        while data:\n",
    "            if target == data:\n",
    "                return data\n",
    "            data = self.traverse()\n",
    "        return 'No data'\n",
    "    \n",
    "    # method 오버라이딩\n",
    "    # 리스트 내의 모든 target\n",
    "    def remove(self,target):\n",
    "        data = self.traverse('first')\n",
    "        while data:\n",
    "            if target == data:\n",
    "                super().remove()    # 메소드 오버라이딩!!!! 부모의 함수를 쓸 때 super()\n",
    "            data = self.traverse()    "
   ]
  },
  {
   "cell_type": "code",
   "execution_count": 7,
   "metadata": {},
   "outputs": [
    {
     "data": {
      "text/plain": [
       "2"
      ]
     },
     "execution_count": 7,
     "metadata": {},
     "output_type": "execute_result"
    }
   ],
   "source": [
    "neLL = testcode()\n",
    "neLL.append(2)\n",
    "neLL.append(5)\n",
    "neLL.append(10)\n",
    "neLL.append(2)\n",
    "neLL.append(6) \n",
    "neLL.append(7) \n",
    "neLL.append(2)\n",
    "\n",
    "\n",
    "neLL.search(2)"
   ]
  },
  {
   "cell_type": "code",
   "execution_count": 8,
   "metadata": {},
   "outputs": [
    {
     "name": "stdout",
     "output_type": "stream",
     "text": [
      "Node of 2 is deleted!\n",
      "Node of 2 is deleted!\n",
      "Node of 2 is deleted!\n",
      "5 10 6 7 "
     ]
    }
   ],
   "source": [
    "neLL.remove(2)\n",
    "\n",
    "data = neLL.traverse('first')    \n",
    "while data:\n",
    "    print(data, end = ' ')\n",
    "    data = neLL.traverse()"
   ]
  },
  {
   "cell_type": "code",
   "execution_count": 9,
   "metadata": {},
   "outputs": [
    {
     "name": "stdout",
     "output_type": "stream",
     "text": [
      "Node of 2 is deleted!\n",
      "Node of 2 is deleted!\n",
      "Node of 2 is deleted!\n",
      "3 6 7 8 3 1 9 "
     ]
    }
   ],
   "source": [
    "rmv_list = Linked_list()\n",
    "\n",
    "rmv_list.append(2)\n",
    "rmv_list.append(3)\n",
    "rmv_list.append(6)\n",
    "rmv_list.append(7)\n",
    "rmv_list.append(8)\n",
    "rmv_list.append(2)\n",
    "rmv_list.append(3)\n",
    "rmv_list.append(1)\n",
    "rmv_list.append(9)\n",
    "rmv_list.append(2)\n",
    "\n",
    "\n",
    "data = rmv_list.traverse('first')\n",
    "\n",
    "while data:\n",
    "    if data == 2:\n",
    "        rmv_list.remove()\n",
    "    data = rmv_list.traverse()\n",
    "\n",
    "data = rmv_list.traverse('first')    \n",
    "\n",
    "while data:\n",
    "    print(data, end = ' ')\n",
    "    data = rmv_list.traverse()\n"
   ]
  },
  {
   "cell_type": "code",
   "execution_count": null,
   "metadata": {
    "collapsed": true
   },
   "outputs": [],
   "source": []
  }
 ],
 "metadata": {
  "kernelspec": {
   "display_name": "Python 3",
   "language": "python",
   "name": "python3"
  },
  "language_info": {
   "codemirror_mode": {
    "name": "ipython",
    "version": 3
   },
   "file_extension": ".py",
   "mimetype": "text/x-python",
   "name": "python",
   "nbconvert_exporter": "python",
   "pygments_lexer": "ipython3",
   "version": "3.6.2"
  }
 },
 "nbformat": 4,
 "nbformat_minor": 2
}
