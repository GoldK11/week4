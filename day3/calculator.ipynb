{
 "cells": [
  {
   "cell_type": "code",
   "execution_count": 1,
   "metadata": {
    "collapsed": true
   },
   "outputs": [],
   "source": [
    "from stack import *"
   ]
  },
  {
   "cell_type": "code",
   "execution_count": null,
   "metadata": {
    "collapsed": true
   },
   "outputs": [],
   "source": [
    "class Calculator:\n",
    "    def __init__(self):\n",
    "        self.org_exp = None\n",
    "        self.postfix_exp = None\n",
    "        self.result = None\n",
    "        \n",
    "    def set_org_exp(self,exp):\n",
    "        self.org_exp = exp.replace(' ','') # 수식 사이에 모든 공백을 다 없애준다\n",
    "        self.postfix_exp = None\n",
    "        self.result =None\n",
    "        \n",
    "    def get_org_exp(self):\n",
    "        return self.org_exp\n",
    "    \n",
    "    # 편의함수 (외부사용자가 호출하는게 아니라 클래스 내에서 편하게 호출하기위해 정의)\n",
    "    # 가중치 반환 return >> 가중치\n",
    "    def get_weight(self,oprt): \n",
    "        if oprt == '*' or oprt == '/':\n",
    "            return 9\n",
    "        elif oprt == '+' or oprt == '-':\n",
    "            return 7\n",
    "        elif oprt == '(':\n",
    "            return 5\n",
    "        \n",
    " \n",
    "    # 원래 수식을 후위표기법으로 바꾸는 장치 self.org_exp >> self.postfix_exp\n",
    "    # exp_list and oprt_stack\n",
    "    def convert_to_postfix(self):\n",
    "        exp_list = []\n",
    "        oprt_stack = Stack()\n",
    "        \n",
    "        for ch in self.get_org_exp():     \n",
    "            if ch.isdigit():      # 숫자형인지 판별\n",
    "                exp_list.append(ch)\n",
    "            else:\n",
    "                if oprt_stack.empty() or ch == '(':\n",
    "                    oprt_stack.push(ch)\n",
    "                elif ch ==')':\n",
    "                    op = oprt_stack.pop()\n",
    "                    while op != '(':\n",
    "                        exp_list.append(op)\n",
    "                        op = oprt_stack.pop()\n",
    "                else:\n",
    "                    if self.get_weight(ch) > self.get_weight(oprt_stack.peek()):\n",
    "                        oprt_stack.push(ch)\n",
    "\n",
    "                    else:\n",
    "                        while oprt_stack and self.get_weight(ch) <= self.get_weight(oprt_stack.peek()):\n",
    "                            op = oprt_stack.pop()\n",
    "                            exp_list.append(op)\n",
    "                        oprt_stack.push(ch)\n",
    "        while oprt_stack:\n",
    "            exp_list.append(oprt_stack.pop())\n",
    "        self.postfix_exp = ''.join(exp_list)\n",
    "        \n",
    "                \n",
    "\n",
    "    # user에게 공개된 인터페이스 1 \n",
    "    def get_postfix_exp(self):\n",
    "        if not self.org_exp:\n",
    "            return None\n",
    "        if not self.postfix_exp:\n",
    "            self.convert_to_postfix()\n",
    "        return self.postfix_exp\n",
    "            \n",
    "    # 편의함수\n",
    "    # 두 피연산자(oprd1,oprd2) , 연산자 (oprt >> 얘는 문자열)\n",
    "    def calc_two_oprd(self,oprd1,oprd2,oprt):\n",
    "        if oprt == '+':\n",
    "            return oprd1 + oprd2\n",
    "        elif oprt == '-':\n",
    "            return oprd1 - oprd2\n",
    "        elif oprt =='*':\n",
    "            return oprd1 * oprd2\n",
    "        elif oprt == '/':\n",
    "            return oprd1 // oprd2\n",
    "    \n",
    "    # 알고리즘 part2 \n",
    "    # 후위표기된 수식을 실제로 계산하는 장치\n",
    "    # return  >> None\n",
    "    # self.result = 결과값\n",
    "    # operator 스택 말고 operand 스택을 써야한다 \n",
    "\n",
    "    def calculate(self):\n",
    "        oprd_stack = Stack()\n",
    "        \n",
    "        for ch in self.get_postfix_exp():\n",
    "            if ch.isdigit():\n",
    "                oprd_stack.push(int(ch))\n",
    "            else:\n",
    "                oprd2 = oprd_stack.pop()\n",
    "                oprd1 = oprd_stack.pop()\n",
    "                oprd_stack.push(\n",
    "                self.calc_two_oprd(oprd1,oprd2,ch))\n",
    "        self.result = oprd_stack.pop()\n",
    "   \n",
    "    # user에게 공개된 인터페이스 2\n",
    "    def get_result(self):\n",
    "        if not self.org_exp:\n",
    "            return None\n",
    "        if not self.result:\n",
    "            self.calculate()\n",
    "            \n",
    "        return self.result"
   ]
  },
  {
   "cell_type": "code",
   "execution_count": null,
   "metadata": {},
   "outputs": [
    {
     "name": "stdout",
     "output_type": "stream",
     "text": [
      "수식을 입력하세요(종료 : 0) : \n",
      "None\n",
      " = None\n",
      "수식을 입력하세요(종료 : 0) : (3 + 2 * 2 - 4) * 3 + 2 *(5 - 7)\n",
      "322*+4-3*257-*+\n",
      "(3+2*2-4)*3+2*(5-7) = 5\n"
     ]
    }
   ],
   "source": [
    "if __name__ == \"__main__\":\n",
    "    calc = Calculator()\n",
    "    while 1:\n",
    "        exp = input(\"수식을 입력하세요(종료 : 0) : \")\n",
    "        if exp == '0':\n",
    "            break\n",
    "        \n",
    "        calc.set_org_exp(exp)\n",
    "        print(calc.get_postfix_exp())\n",
    "        print(\"{exp} = {result}\".format(\n",
    "            exp = calc.get_org_exp(), result = calc.get_result()))\n",
    "                "
   ]
  },
  {
   "cell_type": "code",
   "execution_count": null,
   "metadata": {
    "collapsed": true
   },
   "outputs": [],
   "source": []
  }
 ],
 "metadata": {
  "kernelspec": {
   "display_name": "Python 3",
   "language": "python",
   "name": "python3"
  },
  "language_info": {
   "codemirror_mode": {
    "name": "ipython",
    "version": 3
   },
   "file_extension": ".py",
   "mimetype": "text/x-python",
   "name": "python",
   "nbconvert_exporter": "python",
   "pygments_lexer": "ipython3",
   "version": "3.6.2"
  }
 },
 "nbformat": 4,
 "nbformat_minor": 2
}
