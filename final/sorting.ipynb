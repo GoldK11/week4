{
 "cells": [
  {
   "cell_type": "code",
   "execution_count": 1,
   "metadata": {},
   "outputs": [],
   "source": [
    "# data > list\n",
    "# return > None\n",
    "\n",
    "def bubble_sort(data):\n",
    "    n=len(data)\n",
    "    \n",
    "    for j in range(n-1):   \n",
    "        for i in range(n-(j+1)):  \n",
    "            if data[i] > data[i+1]:\n",
    "                temp = data[i]\n",
    "                data[i] = data[i+1]\n",
    "                data[i+1] = temp\n"
   ]
  },
  {
   "cell_type": "code",
   "execution_count": 2,
   "metadata": {},
   "outputs": [
    {
     "name": "stdout",
     "output_type": "stream",
     "text": [
      "[-2, 0, 0, 3, 4, 5, 9, 67]\n"
     ]
    }
   ],
   "source": [
    "if __name__ =='__main__':\n",
    "    li = [0,67,5,4,9,0,3,-2]\n",
    "    bubble_sort(li)\n",
    "    print(li)"
   ]
  },
  {
   "cell_type": "code",
   "execution_count": 20,
   "metadata": {},
   "outputs": [],
   "source": [
    "def quick_sort(data,start,end):\n",
    "    \n",
    "    if start >= end:\n",
    "        return\n",
    "    \n",
    "    left = start\n",
    "    right = end\n",
    "    pivot = data[(start+end)//2]\n",
    "    \n",
    "    while left <= right:\n",
    "        while data[right] > pivot:\n",
    "            right = right - 1\n",
    "        while data[left] < pivot:\n",
    "            left = left + 1\n",
    "        \n",
    "        if left <= right:\n",
    "            temp = data[left]\n",
    "            data[left] = temp \n",
    "            data[left] = data[right]\n",
    "            data[right] = temp\n",
    "\n",
    "            left = left + 1\n",
    "            right = right - 1\n",
    "\n",
    "    quick_sort(data,start,right)\n",
    "    quick_sort(data,left,end)\n",
    "        \n",
    "    "
   ]
  },
  {
   "cell_type": "code",
   "execution_count": 24,
   "metadata": {},
   "outputs": [
    {
     "name": "stdout",
     "output_type": "stream",
     "text": [
      "[-9, 2, 3, 3, 4, 4, 5, 5, 7, 8]\n"
     ]
    }
   ],
   "source": [
    "if __name__ =='__main__':\n",
    "    l2 = [3,7,5,3,5,4,2,8,-9,4]\n",
    "    quick_sort(l2,0,len(l2) - 1 )\n",
    "    print(l2)"
   ]
  },
  {
   "cell_type": "code",
   "execution_count": null,
   "metadata": {
    "collapsed": true
   },
   "outputs": [],
   "source": []
  }
 ],
 "metadata": {
  "kernelspec": {
   "display_name": "Python 3",
   "language": "python",
   "name": "python3"
  },
  "language_info": {
   "codemirror_mode": {
    "name": "ipython",
    "version": 3
   },
   "file_extension": ".py",
   "mimetype": "text/x-python",
   "name": "python",
   "nbconvert_exporter": "python",
   "pygments_lexer": "ipython3",
   "version": "3.6.2"
  }
 },
 "nbformat": 4,
 "nbformat_minor": 2
}
