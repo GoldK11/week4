{
 "cells": [
  {
   "cell_type": "code",
   "execution_count": 1,
   "metadata": {
    "collapsed": true
   },
   "outputs": [],
   "source": [
    "def hanoi(_from,_by,_to,n):\n",
    "    if n==1:\n",
    "        print('{} 에서 {} 로 {} 번째 쟁반 이동'.format(_from,_to,n))\n",
    "        return\n",
    "    \n",
    "    hanoi(_from,_to,_by,n-1)\n",
    "    print('{} 에서 {} 로 {} 번째 쟁반 이동'.format(_from,_to,n))\n",
    "    hanoi(_by,_from,_to,n-1)"
   ]
  },
  {
   "cell_type": "code",
   "execution_count": 2,
   "metadata": {},
   "outputs": [
    {
     "name": "stdout",
     "output_type": "stream",
     "text": [
      "원반의 개수를 입력하세요 (종료:0) : 2\n",
      "A 에서 B 로 1 번째 쟁반 이동\n",
      "A 에서 C 로 2 번째 쟁반 이동\n",
      "B 에서 C 로 1 번째 쟁반 이동\n",
      "원반의 개수를 입력하세요 (종료:0) : 3\n",
      "A 에서 C 로 1 번째 쟁반 이동\n",
      "A 에서 B 로 2 번째 쟁반 이동\n",
      "C 에서 B 로 1 번째 쟁반 이동\n",
      "A 에서 C 로 3 번째 쟁반 이동\n",
      "B 에서 A 로 1 번째 쟁반 이동\n",
      "B 에서 C 로 2 번째 쟁반 이동\n",
      "A 에서 C 로 1 번째 쟁반 이동\n",
      "원반의 개수를 입력하세요 (종료:0) : 0\n"
     ]
    }
   ],
   "source": [
    "while True:\n",
    "    numOfTray = int(input('원반의 개수를 입력하세요 (종료:0) : '))\n",
    "    if numOfTray ==0:\n",
    "        break\n",
    "    hanoi('A','B','C',numOfTray)"
   ]
  },
  {
   "cell_type": "code",
   "execution_count": null,
   "metadata": {
    "collapsed": true
   },
   "outputs": [],
   "source": [
    "def binary_search(data,target,start,end):\n",
    "    start = \n",
    "    end = len(data)-1\n",
    "     \n",
    "    while start < = end:\n",
    "        mid = (start + end )//2\n",
    "        if target == data[mid]:\n",
    "            return mid\n",
    "        elif target < data[mid]:\n",
    "            end = mid - 1\n",
    "        else:\n",
    "            start = mid + 1\n",
    "    return None"
   ]
  },
  {
   "cell_type": "code",
   "execution_count": 8,
   "metadata": {
    "collapsed": true
   },
   "outputs": [],
   "source": [
    "def binary_search(data,target,start,end):\n",
    "    # 탈출조건\n",
    "    if start > end:\n",
    "        return None\n",
    "    \n",
    "    mid = (start + end )//2\n",
    "    if target == data[mid]:\n",
    "        return mid\n",
    "    elif target < data[mid]:\n",
    "        end = mid -1\n",
    "    else:\n",
    "        start = mid +1        \n",
    "    \n",
    "    return binary_search(data,target,start,end)"
   ]
  },
  {
   "cell_type": "code",
   "execution_count": 13,
   "metadata": {},
   "outputs": [
    {
     "name": "stdout",
     "output_type": "stream",
     "text": [
      "찾는 데이터의 인덱스는 4이고 데이터는 5 입니다\n"
     ]
    }
   ],
   "source": [
    "if __name__ == \"__main__\":\n",
    "    data = [i for i in range(1, 11)]\n",
    "        \n",
    "    target = 5\n",
    "    #target = 9\n",
    "    start = 0 \n",
    "    end = len(data) -1\n",
    "    \n",
    "    idx = binary_search(data,target,start,end)\n",
    "\n",
    "    if idx == None:\n",
    "        print(\"{}이 존재하지 않습니다\".format(target))\n",
    "    else:\n",
    "        print(\"찾는 데이터의 인덱스는 {}이고 데이터는 {} 입니다\".format(idx, data[idx]))\n",
    "    \n"
   ]
  },
  {
   "cell_type": "code",
   "execution_count": 28,
   "metadata": {
    "collapsed": true
   },
   "outputs": [],
   "source": [
    "# n\n",
    "# sum = 1+ 2+ 3+...+n\n",
    "\n",
    "def _sum(n):\n",
    "    if n==1:\n",
    "        return 1\n",
    "    return _sum(n-1)+n\n",
    "\n",
    "        "
   ]
  },
  {
   "cell_type": "code",
   "execution_count": 31,
   "metadata": {},
   "outputs": [
    {
     "data": {
      "text/plain": [
       "55"
      ]
     },
     "execution_count": 31,
     "metadata": {},
     "output_type": "execute_result"
    }
   ],
   "source": [
    "_sum(10)"
   ]
  },
  {
   "cell_type": "code",
   "execution_count": 32,
   "metadata": {
    "collapsed": true
   },
   "outputs": [],
   "source": [
    "# 자료구조\n",
    "# recursion\n",
    "# 개발자에게 필요한 수학을 할 줄 아는가?\n",
    "# 등차수열 > 버블소트의 빅 오\n",
    "\n",
    "def _sum2(n):\n",
    "    return (n(n+1)/2)"
   ]
  },
  {
   "cell_type": "code",
   "execution_count": null,
   "metadata": {
    "collapsed": true
   },
   "outputs": [],
   "source": [
    "_sum2"
   ]
  }
 ],
 "metadata": {
  "kernelspec": {
   "display_name": "Python 3",
   "language": "python",
   "name": "python3"
  },
  "language_info": {
   "codemirror_mode": {
    "name": "ipython",
    "version": 3
   },
   "file_extension": ".py",
   "mimetype": "text/x-python",
   "name": "python",
   "nbconvert_exporter": "python",
   "pygments_lexer": "ipython3",
   "version": "3.6.2"
  }
 },
 "nbformat": 4,
 "nbformat_minor": 2
}
